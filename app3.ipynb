import yfinance as yf
import pandas as pd

data = {}

# ดึงข้อมูลจาก Wikipedia
url = "https://en.wikipedia.org/wiki/List_of_S%26P_500_companies"
tables = pd.read_html(url)
sp500_symbols = tables[0]['Symbol'].tolist()

# แก้ไขชื่อสัญลักษณ์ให้ตรงกับที่ Yahoo Finance ใช้
sp500_symbols = [symbol.replace('.', '-') for symbol in sp500_symbols]

# ดึงราคาปิดล่าสุดของหุ้นทั้งหมด
for ticker in sp500_symbols:
    try:
        stock = yf.Ticker(ticker)
        data[ticker] = stock.history(period='1d')['Close'].iloc[-1]
    except Exception as e:
        print(f"Error with {ticker}: {e}")

# แปลงข้อมูลเป็น DataFrame เพื่อดูหุ้นที่ราคาถูกที่สุด
df = pd.DataFrame(list(data.items()), columns=['Ticker', 'Price'])
df = df.sort_values(by='Price')
print(df)
